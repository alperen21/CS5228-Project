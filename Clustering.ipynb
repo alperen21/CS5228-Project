{
 "cells": [
  {
   "cell_type": "code",
   "execution_count": 68,
   "id": "89957de0-9111-4839-a4e5-5fcd05a65d2d",
   "metadata": {},
   "outputs": [],
   "source": [
    "import pandas as pd\n",
    "import json\n",
    "from sklearn.cluster import KMeans\n",
    "from sklearn.preprocessing import StandardScaler, OneHotEncoder\n",
    "from sklearn.compose import ColumnTransformer\n",
    "from sklearn.pipeline import Pipeline\n",
    "from sklearn.metrics import silhouette_score\n",
    "import matplotlib.pyplot as plt"
   ]
  },
  {
   "cell_type": "code",
   "execution_count": 69,
   "id": "e4fedc7a-9c58-4f9f-acb6-b30cd992c62b",
   "metadata": {},
   "outputs": [],
   "source": [
    "# Load your dataset\n",
    "data = pd.read_csv(\"C:/Users/user/Desktop/steam_5_ids_1000_reviews.csv\")"
   ]
  },
  {
   "cell_type": "code",
   "execution_count": 70,
   "id": "ec4fcc26-e2b2-41a2-b197-9a3a283cdb94",
   "metadata": {},
   "outputs": [
    {
     "name": "stdout",
     "output_type": "stream",
     "text": [
      "   Unnamed: 0  recommendationid language  \\\n",
      "0           0         158456131  english   \n",
      "1           1         158015300  english   \n",
      "2           2         157891698  english   \n",
      "3           3         158229926  english   \n",
      "4           4         158253018  english   \n",
      "\n",
      "                                              review  timestamp_created  \\\n",
      "0  The only co-op game where you are scared of yo...         1708099453   \n",
      "1  Worked so hard to save Super-Earth, only to be...         1707586995   \n",
      "2  Thank you Jimmy525521,\\nI will never forget th...         1707441205   \n",
      "3  During the tutorial, I threw a grenade into a ...         1707832256   \n",
      "4      I'm from Buenos Aires and I say kill 'em all!         1707853843   \n",
      "\n",
      "   timestamp_updated  voted_up  votes_up  votes_funny  weighted_vote_score  \\\n",
      "0         1708099453      True      2711         1067             0.972446   \n",
      "1         1707586995      True      3477         1111             0.972198   \n",
      "2         1707441205      True      4733         1603             0.970314   \n",
      "3         1707832256      True      8782         5705             0.969487   \n",
      "4         1707853843      True      8331         2309             0.961765   \n",
      "\n",
      "   ...  timestamp_dev_responded  developer_response  app_id  \\\n",
      "0  ...                      NaN                 NaN  553850   \n",
      "1  ...                      NaN                 NaN  553850   \n",
      "2  ...                      NaN                 NaN  553850   \n",
      "3  ...                      NaN                 NaN  553850   \n",
      "4  ...                      NaN                 NaN  553850   \n",
      "\n",
      "             steamid  num_games_owned  num_reviews  playtime_forever  \\\n",
      "0  76561198001366665                0           61              1453   \n",
      "1  76561198980623081              223           23              4079   \n",
      "2  76561197962317612              545           23              5430   \n",
      "3  76561198814613226               43            2               661   \n",
      "4  76561198053299733              499           18              3406   \n",
      "\n",
      "  playtime_last_two_weeks  playtime_at_review last_played  \n",
      "0                    1452              1436.0  1708101889  \n",
      "1                    3659               540.0  1708662313  \n",
      "2                    4765               364.0  1708763202  \n",
      "3                     661                26.0  1708585078  \n",
      "4                    2742              1476.0  1708761391  \n",
      "\n",
      "[5 rows x 26 columns]\n"
     ]
    }
   ],
   "source": [
    "# Preprocess the author column to ensure correct JSON formatting\n",
    "data['author'] = data['author'].apply(lambda x: x.replace(\"'\", \"\\\"\"))\n",
    "\n",
    "# Handle cases where JSON-like data might not be correctly formatted\n",
    "def parse_json(x):\n",
    "    try:\n",
    "        return json.loads(x)\n",
    "    except json.JSONDecodeError:\n",
    "        return None\n",
    "\n",
    "# Apply the parsing function to the author column\n",
    "data['author'] = data['author'].apply(parse_json)\n",
    "\n",
    "# Split the JSON-like data into separate columns\n",
    "data['steamid'] = data['author'].apply(lambda x: x.get('steamid', None) if x else None)\n",
    "data['num_games_owned'] = data['author'].apply(lambda x: x.get('num_games_owned', None) if x else None)\n",
    "data['num_reviews'] = data['author'].apply(lambda x: x.get('num_reviews', None) if x else None)\n",
    "data['playtime_forever'] = data['author'].apply(lambda x: x.get('playtime_forever', None) if x else None)\n",
    "data['playtime_last_two_weeks'] = data['author'].apply(lambda x: x.get('playtime_last_two_weeks', None) if x else None)\n",
    "data['playtime_at_review'] = data['author'].apply(lambda x: x.get('playtime_at_review', None) if x else None)\n",
    "data['last_played'] = data['author'].apply(lambda x: x.get('last_played', None) if x else None)\n",
    "\n",
    "# Drop the original \"author\" column\n",
    "data.drop(columns=['author'], inplace=True)\n",
    "\n",
    "# Now, you have separate columns for each attribute of the author\n",
    "print(data.head())\n"
   ]
  },
  {
   "cell_type": "code",
   "execution_count": 71,
   "id": "64809159-a952-4f56-8915-fb877ab514e0",
   "metadata": {},
   "outputs": [],
   "source": [
    "features = ['voted_up', 'votes_up', 'votes_funny', 'weighted_vote_score', \n",
    "            'comment_count', 'steam_purchase', 'received_for_free', 'written_during_early_access', \n",
    "            'hidden_in_steam_china', 'app_id', 'num_games_owned', 'num_reviews', 'playtime_forever', \n",
    "           'playtime_last_two_weeks', 'playtime_at_review']\n",
    "\n",
    "X = data[features]"
   ]
  },
  {
   "cell_type": "code",
   "execution_count": 72,
   "id": "755d661b-c263-4a13-aead-0d9d2f3fffba",
   "metadata": {},
   "outputs": [
    {
     "name": "stdout",
     "output_type": "stream",
     "text": [
      "Columns containing NaN values:\n",
      "['playtime_at_review']\n"
     ]
    }
   ],
   "source": [
    "nan_columns = X.isna().any()\n",
    "print(\"Columns containing NaN values:\")\n",
    "print(nan_columns[nan_columns].index.tolist())"
   ]
  },
  {
   "cell_type": "code",
   "execution_count": 73,
   "id": "3ab98710-2805-4a74-be6c-5869f31cdc66",
   "metadata": {},
   "outputs": [],
   "source": [
    "X = X.copy()\n",
    "X.dropna(subset=['playtime_at_review'], inplace=True)"
   ]
  },
  {
   "cell_type": "code",
   "execution_count": 74,
   "id": "4e97ac51-d354-436b-a3bb-7d84b7aa6586",
   "metadata": {},
   "outputs": [],
   "source": [
    "numeric_features = ['votes_up', 'votes_funny', 'weighted_vote_score', 'comment_count', 'app_id', \n",
    "                    'num_games_owned', 'num_reviews', 'playtime_forever', 'playtime_last_two_weeks', 'playtime_at_review']\n",
    "categorical_features = ['voted_up', 'steam_purchase', 'received_for_free', \n",
    "                        'written_during_early_access', 'hidden_in_steam_china']\n",
    "\n",
    "numeric_transformer = StandardScaler()\n",
    "categorical_transformer = OneHotEncoder(handle_unknown='ignore')\n",
    "\n",
    "preprocessor = ColumnTransformer(\n",
    "    transformers=[\n",
    "        ('num', numeric_transformer, numeric_features),\n",
    "        ('cat', categorical_transformer, categorical_features)])"
   ]
  },
  {
   "cell_type": "code",
   "execution_count": 75,
   "id": "39b88314-3c99-4fb9-a305-06e41dfff6ff",
   "metadata": {},
   "outputs": [],
   "source": [
    "# Calculate the Elbow Score\n",
    "def calculate_wcss(X):\n",
    "    wcss = []\n",
    "    for n_clusters in range(1, 11):\n",
    "        pipeline = Pipeline([\n",
    "            ('preprocessor', preprocessor),\n",
    "            ('kmeans', KMeans(n_clusters=n_clusters, init='k-means++', max_iter=300, n_init=10, random_state=0))\n",
    "        ])\n",
    "        pipeline.fit(X)\n",
    "        wcss.append(pipeline['kmeans'].inertia_)\n",
    "    return wcss\n",
    "\n",
    "# Plot the Elbow Method graph\n",
    "def plot_elbow(wcss):\n",
    "    plt.plot(range(1, 11), wcss)\n",
    "    plt.title('Elbow Method')\n",
    "    plt.xlabel('Number of clusters')\n",
    "    plt.ylabel('WCSS')\n",
    "    plt.show()\n",
    "\n",
    "# Calculate Silhouette Score\n",
    "def calculate_silhouette_score(X, n_clusters):\n",
    "    pipeline = Pipeline([\n",
    "        ('preprocessor', preprocessor),\n",
    "        ('kmeans', KMeans(n_clusters=n_clusters, init='k-means++', max_iter=300, n_init=10, random_state=0))\n",
    "    ])\n",
    "    pipeline.fit(X)\n",
    "    labels = pipeline['kmeans'].labels_\n",
    "    silhouette_avg = silhouette_score(X, labels)\n",
    "    return silhouette_avg\n",
    "\n",
    "# Find optimal number of clusters using Silhouette Score\n",
    "def find_optimal_clusters(X):\n",
    "    silhouette_scores = []\n",
    "    for n_clusters in range(2, 11):\n",
    "        silhouette_avg = calculate_silhouette_score(X, n_clusters)\n",
    "        silhouette_scores.append(silhouette_avg)\n",
    "\n",
    "    optimal_clusters = silhouette_scores.index(max(silhouette_scores)) + 2\n",
    "    return optimal_clusters"
   ]
  },
  {
   "cell_type": "code",
   "execution_count": 76,
   "id": "a2c43ed5-8d21-4a89-91c5-e2b7262a61f0",
   "metadata": {},
   "outputs": [
    {
     "data": {
      "image/png": "[encoded data removed]",
      "text/plain": [
       "<Figure size 640x480 with 1 Axes>"
      ]
     },
     "metadata": {},
     "output_type": "display_data"
    },
    {
     "name": "stdout",
     "output_type": "stream",
     "text": [
      "Optimal number of clusters using Silhouette Score: 2\n"
     ]
    }
   ],
   "source": [
    "# Calculate WCSS for Elbow Method\n",
    "wcss = calculate_wcss(X)\n",
    "plot_elbow(wcss)\n",
    "\n",
    "# Find optimal number of clusters using Silhouette Score\n",
    "optimal_clusters = find_optimal_clusters(X)\n",
    "print(\"Optimal number of clusters using Silhouette Score:\", optimal_clusters)"
   ]
  },
  {
   "cell_type": "code",
   "execution_count": 77,
   "id": "f5855144-8af0-4f5e-8320-dbfd28fbd5bb",
   "metadata": {},
   "outputs": [
    {
     "name": "stdout",
     "output_type": "stream",
     "text": [
      "         voted_up    votes_up  votes_funny  weighted_vote_score  \\\n",
      "cluster                                                           \n",
      "0        0.695828   65.172134    11.951802             0.628081   \n",
      "1        0.703953  581.001976   289.833992             0.813542   \n",
      "\n",
      "         comment_count  steam_purchase  received_for_free  \\\n",
      "cluster                                                     \n",
      "0             1.621709        0.814905           0.012556   \n",
      "1            18.950593        0.366798           0.037154   \n",
      "\n",
      "         written_during_early_access  hidden_in_steam_china         app_id  \\\n",
      "cluster                                                                      \n",
      "0                           0.388416               0.664237  697136.739571   \n",
      "1                           0.020158               0.169565  123228.782609   \n",
      "\n",
      "         num_games_owned  num_reviews  playtime_forever  \\\n",
      "cluster                                                   \n",
      "0             237.950587    27.642365      15337.855002   \n",
      "1             286.447036    17.607510     193598.091304   \n",
      "\n",
      "         playtime_last_two_weeks  playtime_at_review  \n",
      "cluster                                               \n",
      "0                    1380.716079         7573.471041  \n",
      "1                     563.935968       104150.432411  \n"
     ]
    }
   ],
   "source": [
    "pipeline = Pipeline([\n",
    "    ('preprocessor', preprocessor),\n",
    "    ('kmeans', KMeans(n_clusters=2)) \n",
    "])\n",
    "\n",
    "# Fit the pipeline to the data\n",
    "pipeline.fit(X)\n",
    "\n",
    "# Add cluster labels to the original dataset\n",
    "X['cluster'] = pipeline['kmeans'].labels_\n",
    "\n",
    "# Analyze clusters\n",
    "cluster_analysis = X.groupby('cluster').mean()\n",
    "\n",
    "print(cluster_analysis)"
   ]
  },
  {
   "cell_type": "code",
   "execution_count": null,
   "id": "d64a21a6-bf20-4cbc-b37c-2b0d648fd710",
   "metadata": {},
   "outputs": [],
   "source": []
  }
 ],
 "metadata": {
  "kernelspec": {
   "display_name": "Python 3 (ipykernel)",
   "language": "python",
   "name": "python3"
  },
  "language_info": {
   "codemirror_mode": {
    "name": "ipython",
    "version": 3
   },
   "file_extension": ".py",
   "mimetype": "text/x-python",
   "name": "python",
   "nbconvert_exporter": "python",
   "pygments_lexer": "ipython3",
   "version": "3.12.2"
  }
 },
 "nbformat": 4,
 "nbformat_minor": 5
}
